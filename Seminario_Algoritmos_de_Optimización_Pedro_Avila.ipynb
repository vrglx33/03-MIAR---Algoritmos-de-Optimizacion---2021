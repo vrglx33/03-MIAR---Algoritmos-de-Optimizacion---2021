{
  "nbformat": 4,
  "nbformat_minor": 0,
  "metadata": {
    "colab": {
      "name": "Seminario - Algoritmos de Optimización Pedro Avila",
      "provenance": [],
      "collapsed_sections": []
    },
    "kernelspec": {
      "name": "python3",
      "display_name": "Python 3"
    }
  },
  "cells": [
    {
      "cell_type": "markdown",
      "metadata": {
        "id": "hVbXYX-RfPWh"
      },
      "source": [
        "# Algoritmos de optimización - Seminario<br>\n",
        "Nombre y Apellidos: Pedro Alejandro Avila Plaza  <br>\n",
        "Url: https://github.com/.../03MAIR---Algoritmos-de-Optimizacion---2019/tree/master/SEMINARIO<br>\n",
        "Problema:\n",
        ">1. Sesiones de doblaje \n",
        "\n",
        "Descripción del problema: Se precisa coordinar el doblaje de una película. Los actores del doblaje deben coincidir en las\n",
        "tomas en las que sus personajes aparecen juntos en las diferentes tomas. Los actores de\n",
        "doblaje cobran todos la misma cantidad por cada día que deben desplazarse hasta el estudio de\n",
        "grabación independientemente del número de tomas que se graben. No es posible grabar más\n",
        "de 6 tomas por día. El objetivo es planificar las sesiones por día de manera que se gasto por los\n",
        "servicios de los actores de doblaje sea el menor posible. Los datos son:\n",
        "\n",
        "\n",
        "\n",
        "\n",
        "\n",
        "\n",
        "                                        "
      ]
    },
    {
      "cell_type": "markdown",
      "metadata": {
        "id": "3_-exlrTgLd-"
      },
      "source": [
        "(*)¿Cuantas posibilidades hay sin tener en cuenta las restricciones?<br>\n",
        "\n",
        "\n",
        "\n",
        "¿Cuantas posibilidades hay teniendo en cuenta todas las restricciones.\n",
        "\n",
        "\n"
      ]
    },
    {
      "cell_type": "markdown",
      "metadata": {
        "id": "WfCUqJyKhPcw"
      },
      "source": [
        "Respuesta"
      ]
    },
    {
      "cell_type": "code",
      "metadata": {
        "id": "iq6Fe32MgpDX"
      },
      "source": [
        "300 posibilidades, ya que tenemos 30 tomas y 10 actores, entonces en el peor de los casos todos los actores tienen que estár en todas las tomas."
      ],
      "execution_count": null,
      "outputs": []
    },
    {
      "cell_type": "markdown",
      "metadata": {
        "id": "dzynfVJahHoY"
      },
      "source": [
        "Modelo para el espacio de soluciones<br>\n",
        "(*) ¿Cual es la estructura de datos que mejor se adapta al problema? Argumentalo.(Es posible que hayas elegido una al principio y veas la necesidad de cambiar, arguentalo)\n"
      ]
    },
    {
      "cell_type": "markdown",
      "metadata": {
        "id": "xFIJrOwKi2Ti"
      },
      "source": [
        "Respuesta"
      ]
    },
    {
      "cell_type": "code",
      "metadata": {
        "id": "38c-7-ejhJmA"
      },
      "source": [
        "un diccionario con n keys que representan cada dia de grabación, dentro de cada uno un arreglo con los actores y otro con las escenas que se grabaran ese dia."
      ],
      "execution_count": null,
      "outputs": []
    },
    {
      "cell_type": "markdown",
      "metadata": {
        "id": "7Z9U2W7bi-XS"
      },
      "source": [
        "Según el modelo para el espacio de soluciones<br>\n",
        "(*)¿Cual es la función objetivo?\n",
        "\n",
        "(*)¿Es un problema de maximización o minimización?"
      ]
    },
    {
      "cell_type": "code",
      "metadata": {
        "id": "ChAhlzYCeDKT"
      },
      "source": [
        ""
      ],
      "execution_count": null,
      "outputs": []
    },
    {
      "cell_type": "markdown",
      "metadata": {
        "id": "hBalWLM7j1_d"
      },
      "source": [
        "Respuesta"
      ]
    },
    {
      "cell_type": "code",
      "metadata": {
        "id": "pDA-rg3Gj5Lz"
      },
      "source": [
        "la función objetivo es la que nos proporciona el arreglo con la distribución mas óptima de actores para las tomas que se harían diariamente. es un problema de minimización"
      ],
      "execution_count": null,
      "outputs": []
    },
    {
      "cell_type": "markdown",
      "metadata": {
        "id": "rlnTYgY1j6I2"
      },
      "source": [
        "Diseña un algoritmo para resolver el problema por fuerza bruta"
      ]
    },
    {
      "cell_type": "markdown",
      "metadata": {
        "id": "70rDgxYXkC8r"
      },
      "source": [
        "Respuesta"
      ]
    },
    {
      "cell_type": "code",
      "metadata": {
        "id": "CJb5sQ0qkENy",
        "colab": {
          "base_uri": "https://localhost:8080/",
          "height": 0
        },
        "outputId": "881bb1d1-471a-4cfc-da31-ae918f8c23ab"
      },
      "source": [
        "import pprint\n",
        "\n",
        "seed = [\n",
        "        [\t1\t,\t1\t,\t1\t,\t1\t,\t1\t,\t0\t,\t0\t,\t0\t,\t0\t,\t0\t],\n",
        "        [\t0\t,\t0\t,\t1\t,\t1\t,\t1\t,\t0\t,\t0\t,\t0\t,\t0\t,\t0\t],\n",
        "        [\t0\t,\t1\t,\t0\t,\t0\t,\t1\t,\t0\t,\t1\t,\t0\t,\t0\t,\t0\t],\n",
        "        [\t1\t,\t1\t,\t0\t,\t0\t,\t0\t,\t0\t,\t1\t,\t1\t,\t0\t,\t0\t],\n",
        "        [\t0\t,\t1\t,\t0\t,\t1\t,\t0\t,\t0\t,\t0\t,\t1\t,\t0\t,\t0\t],\n",
        "        [\t1\t,\t1\t,\t0\t,\t1\t,\t1\t,\t0\t,\t0\t,\t0\t,\t0\t,\t0\t],\n",
        "        [\t1\t,\t1\t,\t0\t,\t1\t,\t1\t,\t0\t,\t0\t,\t0\t,\t0\t,\t0\t],\n",
        "        [\t1\t,\t1\t,\t0\t,\t0\t,\t0\t,\t1\t,\t0\t,\t0\t,\t0\t,\t0\t],\n",
        "        [\t1\t,\t1\t,\t0\t,\t1\t,\t0\t,\t0\t,\t0\t,\t0\t,\t0\t,\t0\t],\n",
        "        [\t1\t,\t1\t,\t0\t,\t0\t,\t0\t,\t1\t,\t0\t,\t0\t,\t1\t,\t0\t],\n",
        "        [\t1\t,\t1\t,\t1\t,\t0\t,\t1\t,\t0\t,\t0\t,\t1\t,\t0\t,\t0\t],\n",
        "        [\t1\t,\t1\t,\t1\t,\t1\t,\t0\t,\t1\t,\t0\t,\t0\t,\t0\t,\t0\t],\n",
        "        [\t1\t,\t0\t,\t0\t,\t1\t,\t1\t,\t0\t,\t0\t,\t0\t,\t0\t,\t0\t],\n",
        "        [\t1\t,\t0\t,\t1\t,\t0\t,\t0\t,\t1\t,\t0\t,\t0\t,\t0\t,\t0\t],\n",
        "        [\t1\t,\t1\t,\t0\t,\t0\t,\t0\t,\t0\t,\t1\t,\t0\t,\t0\t,\t0\t],\n",
        "        [\t0\t,\t0\t,\t0\t,\t1\t,\t0\t,\t0\t,\t0\t,\t0\t,\t0\t,\t1\t],\n",
        "        [\t1\t,\t0\t,\t1\t,\t0\t,\t0\t,\t0\t,\t0\t,\t0\t,\t0\t,\t0\t],\n",
        "        [\t0\t,\t0\t,\t1\t,\t0\t,\t0\t,\t1\t,\t0\t,\t0\t,\t0\t,\t0\t],\n",
        "        [\t1\t,\t0\t,\t1\t,\t0\t,\t0\t,\t0\t,\t0\t,\t0\t,\t0\t,\t0\t],\n",
        "        [\t1\t,\t0\t,\t1\t,\t1\t,\t1\t,\t0\t,\t0\t,\t0\t,\t0\t,\t0\t],\n",
        "        [\t0\t,\t0\t,\t0\t,\t0\t,\t0\t,\t1\t,\t0\t,\t1\t,\t0\t,\t0\t],\n",
        "        [\t1\t,\t1\t,\t1\t,\t1\t,\t0\t,\t0\t,\t0\t,\t0\t,\t0\t,\t0\t],\n",
        "        [\t1\t,\t0\t,\t1\t,\t0\t,\t0\t,\t0\t,\t0\t,\t0\t,\t0\t,\t0\t],\n",
        "        [\t0\t,\t0\t,\t1\t,\t0\t,\t0\t,\t1\t,\t0\t,\t0\t,\t0\t,\t0\t],\n",
        "        [\t1\t,\t1\t,\t0\t,\t1\t,\t0\t,\t0\t,\t0\t,\t0\t,\t0\t,\t1\t],\n",
        "        [\t1\t,\t0\t,\t1\t,\t0\t,\t1\t,\t0\t,\t0\t,\t0\t,\t1\t,\t0\t],\n",
        "        [\t0\t,\t0\t,\t0\t,\t1\t,\t1\t,\t0\t,\t0\t,\t0\t,\t0\t,\t0\t],\n",
        "        [\t1\t,\t0\t,\t0\t,\t1\t,\t0\t,\t0\t,\t0\t,\t0\t,\t0\t,\t0\t],\n",
        "        [\t1\t,\t0\t,\t0\t,\t0\t,\t1\t,\t1\t,\t0\t,\t0\t,\t0\t,\t0\t],\n",
        "        [\t1\t,\t0\t,\t0\t,\t1\t,\t0\t,\t0\t,\t0\t,\t0\t,\t0\t,\t0\t]\n",
        "]\n",
        "def calculate_actors(data):\n",
        "  days= {}\n",
        "  days_iterator = 1\n",
        "  takes = len(data)\n",
        "  actors = {}\n",
        "  longest_actor = None\n",
        "  filmed_takes = []\n",
        "  daily_takes_iterator = 0\n",
        "\n",
        "  def get_by_largest_actors(take):\n",
        "    return len([idx+1 for idx, actor in enumerate(data[take-1]) if actor == 1])\n",
        "\n",
        "  for index, take in enumerate(data):\n",
        "    take_number = index + 1\n",
        "    for actor_index, actor in enumerate(take):\n",
        "      actor_number = actor_index + 1\n",
        "      if actor_number in actors:\n",
        "        if actor == 1 and take_number not in actors[actor_number]['takes']:\n",
        "          actors[actor_number]['takes'].append(take_number)\n",
        "          if len(actors[actor_number]['takes']) > len(actors[longest_actor]['takes']):\n",
        "            longest_actor = actor_number\n",
        "      else:\n",
        "        actors[actor_number] = {\"takes\": [take_number]}\n",
        "        if longest_actor == None:\n",
        "          longest_actor = actor_number\n",
        "\n",
        "  takes_actors = []      \n",
        "\n",
        "  for actor in actors.keys():\n",
        "    sorted_takes = sorted(actors[actor]['takes'], key= lambda x: get_by_largest_actors(x), reverse=True)\n",
        "    for take in sorted_takes:\n",
        "      if take not in filmed_takes:\n",
        "        filmed_takes.append(take)\n",
        "        if days_iterator in days:\n",
        "          days[days_iterator].append(take)\n",
        "          daily_takes_iterator += 1\n",
        "          if daily_takes_iterator >= 6:\n",
        "            daily_takes_iterator = 0\n",
        "            days_iterator += 1\n",
        "        else:\n",
        "          days[days_iterator] = [take]\n",
        "          daily_takes_iterator += 1\n",
        "          if daily_takes_iterator >= 6:\n",
        "            daily_takes_iterator = 0\n",
        "            days_iterator += 1\n",
        "  \n",
        "  actors_by_day = {}\n",
        "  for day in days.keys():\n",
        "    actores=[]\n",
        "    for take in days[day]:\n",
        "      take_index = take-1\n",
        "      for idx, actor in enumerate(data[take_index]):\n",
        "        if actor == 1:\n",
        "          actores.append(idx+1)\n",
        "      actors_by_day[day] = {\"actores\": list(set(actores)), \"escenas\": days[day]}\n",
        "  pprint.pprint(actors_by_day)\n",
        "calculate_actors(seed)"
      ],
      "execution_count": 3,
      "outputs": [
        {
          "output_type": "stream",
          "name": "stdout",
          "text": [
            "{1: {'actores': [1, 2, 3, 4, 5, 6, 7, 8], 'escenas': [1, 11, 12, 4, 6, 7]},\n",
            " 2: {'actores': [1, 2, 3, 4, 5, 6, 9, 10], 'escenas': [10, 20, 22, 25, 26, 8]},\n",
            " 3: {'actores': [1, 2, 3, 4, 5, 6, 7], 'escenas': [9, 13, 14, 15, 29, 17]},\n",
            " 4: {'actores': [1, 2, 3, 4, 5, 7, 8], 'escenas': [19, 23, 28, 30, 3, 5]},\n",
            " 5: {'actores': [3, 4, 5, 6, 8, 10], 'escenas': [2, 18, 24, 16, 27, 21]}}\n"
          ]
        }
      ]
    },
    {
      "cell_type": "markdown",
      "metadata": {
        "id": "tgrnsC2nkFa8"
      },
      "source": [
        "Calcula la complejidad del algoritmo por fuerza bruta"
      ]
    },
    {
      "cell_type": "markdown",
      "metadata": {
        "id": "9eUd3xwckP68"
      },
      "source": [
        "Respuesta"
      ]
    },
    {
      "cell_type": "code",
      "metadata": {
        "id": "rvZWwL-ckRST"
      },
      "source": [
        "2n^2 + n^3"
      ],
      "execution_count": null,
      "outputs": []
    },
    {
      "cell_type": "markdown",
      "metadata": {
        "id": "txbrmLmskReM"
      },
      "source": [
        "(*)Diseña un algoritmo que mejore la complejidad del algortimo por fuerza bruta. Argumenta porque crees que mejora el algoritmo por fuerza bruta\n",
        "\n",
        "\n",
        "mejora el algoritmo por fuerza bruta porque hay calculos que se pueden hacer para peraparar los datos y no hay necesidad de tenerlos anidados, por ejemplo el hecho de ordenar los datos de entrada descendentemente de los que mas actores requieren a los qu emenos actores requieren"
      ]
    },
    {
      "cell_type": "markdown",
      "metadata": {
        "id": "hLrVwt5QkZPD"
      },
      "source": [
        "Respuesta"
      ]
    },
    {
      "cell_type": "code",
      "metadata": {
        "id": "m1eyM21Vkabg",
        "colab": {
          "base_uri": "https://localhost:8080/",
          "height": 0
        },
        "outputId": "5455512a-f551-4541-f3d6-4a266f0b719a"
      },
      "source": [
        "import pprint\n",
        "\n",
        "def get_by_largest_actors(take, data):\n",
        "\n",
        "  return len([idx for idx, actor in enumerate(data[take]) if actor == 1])\n",
        "\n",
        "def get_actors_takes_mapping(data, actors):\n",
        "  filmed_takes = []\n",
        "  days= {}\n",
        "  days_iterator = 1\n",
        "  daily_takes_iterator = 0\n",
        "\n",
        "  for actor in actors.keys():\n",
        "    for take in actors[actor]['takes']:\n",
        "      if take not in filmed_takes:\n",
        "        filmed_takes.append(take)\n",
        "        if days_iterator in days:\n",
        "          days[days_iterator].append(take)\n",
        "          daily_takes_iterator += 1\n",
        "          if daily_takes_iterator >= 6:\n",
        "            daily_takes_iterator = 0\n",
        "            days_iterator += 1\n",
        "        else:\n",
        "          days[days_iterator] = [take]\n",
        "          daily_takes_iterator += 1\n",
        "          if daily_takes_iterator >= 6:\n",
        "            daily_takes_iterator = 0\n",
        "            days_iterator += 1\n",
        "  return days\n",
        "\n",
        "def get_days_takes_actors(days, data):\n",
        "  actors_by_day = {}\n",
        "  for day in days.keys():\n",
        "    actores=[]\n",
        "    for take in days[day]:\n",
        "      take_index = take-1\n",
        "      for idx, actor in enumerate(data[take_index]):\n",
        "        if actor == 1:\n",
        "          actores.append(idx+1)\n",
        "      actors_by_day[day] = {\"actores\": list(set(actores)), \"escenas\": days[day]}\n",
        "  return actors_by_day\n",
        "\n",
        "def get_actors_mapping(data):\n",
        "  actors = {}\n",
        "  longest_actor = None\n",
        "\n",
        "  for index, take in enumerate(data):\n",
        "    take_number = index + 1\n",
        "    for actor_index, actor in enumerate(take):\n",
        "      actor_number = actor_index + 1\n",
        "      if actor_number in actors:\n",
        "        if actor == 1 and take_number not in actors[actor_number]['takes']:\n",
        "          actors[actor_number]['takes'].append(take_number)\n",
        "          if len(actors[actor_number]['takes']) > len(actors[longest_actor]['takes']):\n",
        "            longest_actor = actor_number\n",
        "      else:\n",
        "        actors[actor_number] = {\"takes\": [take_number]}\n",
        "        if longest_actor == None:\n",
        "          longest_actor = actor_number\n",
        "  return actors\n",
        "\n",
        "def get_actors_by_take(data):\n",
        "  takes = {}\n",
        "  for index, take in enumerate(data):\n",
        "    takes[index+1] = []\n",
        "    for idx, actor in enumerate(take):\n",
        "      if actor == 1:\n",
        "        takes[index+1].append(idx+1)\n",
        "  return takes\n",
        "\n",
        "def calculate_actors_improved(data):\n",
        "  main_data = sorted(enumerate(data), key= lambda x: get_by_largest_actors(x[0], data), reverse=True)\n",
        "  formatted_data = [take[1] for take in main_data]\n",
        "  takes = get_actors_by_take(formatted_data)\n",
        "  actors = get_actors_mapping(formatted_data)\n",
        "  days = get_actors_takes_mapping(formatted_data, actors)\n",
        "  actors_by_day = get_days_takes_actors(days, formatted_data)\n",
        "  pprint.pprint(actors_by_day)\n",
        "\n",
        "calculate_actors_improved(seed)\n"
      ],
      "execution_count": 40,
      "outputs": [
        {
          "output_type": "stream",
          "name": "stdout",
          "text": [
            "{1: {'actores': [1, 2, 3, 4, 5, 6, 7, 8], 'escenas': [1, 2, 3, 4, 5, 6]},\n",
            " 2: {'actores': [1, 2, 3, 4, 5, 6, 9, 10], 'escenas': [7, 8, 9, 10, 11, 15]},\n",
            " 3: {'actores': [1, 2, 3, 4, 5, 6, 7], 'escenas': [16, 17, 18, 19, 20, 22]},\n",
            " 4: {'actores': [1, 2, 3, 4, 5, 7, 8], 'escenas': [24, 26, 29, 30, 13, 14]},\n",
            " 5: {'actores': [3, 4, 5, 6, 8, 10], 'escenas': [12, 23, 27, 21, 28, 25]}}\n"
          ]
        }
      ]
    },
    {
      "cell_type": "markdown",
      "metadata": {
        "id": "eGDB4K6uk1iN"
      },
      "source": [
        "(*)Calcula la complejidad del algoritmo \n",
        "\n"
      ]
    },
    {
      "cell_type": "markdown",
      "metadata": {
        "id": "NhpTh_BPk1ms"
      },
      "source": [
        "Respuesta"
      ]
    },
    {
      "cell_type": "code",
      "metadata": {
        "id": "nREzhkStlCq8"
      },
      "source": [
        "2n^2"
      ],
      "execution_count": null,
      "outputs": []
    },
    {
      "cell_type": "markdown",
      "metadata": {
        "id": "3M6QjTsSkmYe"
      },
      "source": [
        "Según el problema (y tenga sentido), diseña un juego de datos de entrada aleatorios"
      ]
    },
    {
      "cell_type": "markdown",
      "metadata": {
        "id": "Jc3_OlyNkvjZ"
      },
      "source": [
        "Respuesta"
      ]
    },
    {
      "cell_type": "code",
      "metadata": {
        "id": "sJ-N2etjkyWc",
        "colab": {
          "base_uri": "https://localhost:8080/"
        },
        "outputId": "2ea035ec-babc-4a4b-ae99-556884ebf2d7"
      },
      "source": [
        "import random\n",
        "\n",
        "data_mock = []\n",
        "random_takes = round(random.random()*100)\n",
        "random_actors = round(random.random()*100)\n",
        "print(random_takes)\n",
        "print(random_actors)\n",
        "for take in range(0,random_takes):\n",
        "  take = []\n",
        "  for actor in range(0, random_actors):\n",
        "    take.append(round(random.random()))\n",
        "  data_mock.append(take)\n",
        "print(data_mock)"
      ],
      "execution_count": null,
      "outputs": [
        {
          "output_type": "stream",
          "name": "stdout",
          "text": [
            "25\n",
            "26\n",
            "[[0, 0, 0, 1, 0, 1, 0, 0, 0, 0, 0, 1, 1, 0, 1, 1, 1, 0, 0, 1, 1, 1, 1, 1, 1, 1], [0, 0, 1, 1, 1, 1, 0, 1, 0, 0, 0, 0, 0, 0, 1, 1, 0, 0, 1, 0, 1, 1, 1, 0, 0, 0], [0, 1, 1, 1, 0, 0, 1, 0, 0, 1, 0, 1, 0, 1, 0, 0, 0, 1, 1, 0, 0, 1, 1, 0, 0, 0], [0, 1, 0, 1, 0, 1, 1, 1, 1, 1, 0, 1, 0, 0, 1, 1, 1, 1, 0, 0, 0, 0, 1, 1, 1, 0], [1, 0, 1, 1, 0, 0, 1, 1, 1, 1, 0, 1, 1, 0, 0, 1, 1, 0, 0, 1, 1, 0, 1, 1, 0, 0], [0, 1, 0, 0, 1, 0, 0, 0, 0, 0, 1, 0, 0, 0, 1, 1, 0, 0, 1, 1, 0, 0, 1, 0, 1, 0], [1, 0, 0, 0, 1, 1, 1, 0, 0, 1, 0, 1, 0, 0, 1, 1, 1, 0, 1, 0, 1, 0, 0, 0, 0, 1], [1, 0, 0, 1, 0, 0, 1, 1, 1, 0, 1, 0, 1, 0, 0, 1, 0, 1, 1, 1, 1, 0, 1, 0, 1, 1], [1, 0, 0, 0, 1, 1, 1, 1, 1, 0, 1, 0, 0, 1, 0, 0, 1, 1, 1, 0, 1, 0, 0, 0, 0, 1], [0, 1, 1, 1, 1, 0, 0, 0, 0, 1, 0, 0, 1, 0, 0, 1, 0, 0, 1, 1, 0, 0, 0, 0, 0, 0], [1, 0, 0, 1, 1, 1, 0, 0, 1, 0, 0, 0, 1, 1, 0, 1, 1, 1, 0, 1, 1, 1, 1, 1, 0, 0], [1, 0, 0, 0, 0, 1, 0, 1, 0, 1, 0, 0, 0, 0, 1, 1, 0, 0, 0, 1, 0, 0, 1, 0, 1, 0], [0, 1, 1, 0, 1, 1, 0, 0, 1, 1, 1, 0, 0, 1, 1, 0, 1, 0, 1, 0, 0, 1, 1, 0, 0, 0], [1, 1, 0, 1, 0, 1, 1, 0, 0, 0, 0, 0, 1, 1, 1, 1, 0, 1, 0, 0, 0, 1, 0, 1, 0, 1], [0, 0, 1, 0, 1, 1, 1, 0, 0, 1, 0, 1, 1, 1, 0, 1, 0, 0, 0, 1, 0, 1, 1, 0, 1, 1], [0, 1, 1, 0, 0, 1, 0, 0, 1, 1, 1, 0, 1, 1, 1, 0, 0, 0, 0, 1, 1, 0, 1, 1, 1, 1], [0, 1, 0, 0, 0, 0, 0, 0, 0, 0, 1, 1, 0, 1, 0, 0, 1, 0, 1, 0, 0, 0, 1, 0, 0, 1], [1, 0, 1, 0, 1, 1, 0, 1, 0, 1, 0, 0, 1, 1, 1, 1, 1, 1, 1, 0, 0, 0, 1, 0, 0, 0], [0, 0, 1, 1, 1, 1, 0, 0, 0, 0, 0, 0, 0, 0, 1, 0, 1, 0, 0, 1, 0, 1, 0, 1, 1, 1], [0, 1, 1, 0, 1, 0, 1, 1, 1, 0, 1, 1, 0, 1, 1, 1, 0, 1, 0, 1, 0, 0, 0, 0, 0, 1], [1, 0, 1, 1, 0, 1, 1, 0, 1, 1, 1, 0, 0, 0, 0, 1, 0, 0, 0, 0, 1, 0, 1, 0, 0, 1], [0, 0, 1, 0, 1, 0, 1, 1, 0, 0, 1, 1, 1, 1, 1, 1, 0, 1, 1, 1, 0, 0, 1, 1, 0, 1], [1, 1, 1, 1, 1, 0, 0, 1, 1, 1, 0, 0, 0, 1, 1, 1, 0, 0, 1, 0, 1, 0, 1, 1, 1, 1], [1, 1, 0, 1, 0, 0, 0, 1, 0, 0, 0, 1, 0, 0, 1, 0, 1, 0, 1, 0, 0, 1, 1, 0, 1, 1], [0, 0, 0, 1, 1, 1, 0, 1, 1, 0, 0, 0, 0, 0, 1, 1, 0, 0, 0, 1, 0, 0, 1, 0, 0, 0]]\n"
          ]
        }
      ]
    },
    {
      "cell_type": "markdown",
      "metadata": {
        "id": "zy5ZROmjlGo1"
      },
      "source": [
        "Aplica el algoritmo al juego de datos generado"
      ]
    },
    {
      "cell_type": "markdown",
      "metadata": {
        "id": "_Cmj-PVylMsa"
      },
      "source": [
        "Respuesta"
      ]
    },
    {
      "cell_type": "code",
      "metadata": {
        "id": "Jkx8GeiYlUz1",
        "colab": {
          "base_uri": "https://localhost:8080/"
        },
        "outputId": "15f619d3-5284-4f3e-caa9-aa03fef33051"
      },
      "source": [
        "import pprint\n",
        "\n",
        "data = data_mock\n",
        "days= {}\n",
        "days_iterator = 1\n",
        "takes = len(data)\n",
        "actors = {}\n",
        "longest_actor = None\n",
        "filmed_takes = []\n",
        "daily_takes_iterator = 0\n",
        "\n",
        "def get_by_largest_actors(take):\n",
        "  return len([idx+1 for idx, actor in enumerate(data[take-1]) if actor == 1])\n",
        "\n",
        "for index, take in enumerate(data):\n",
        "  take_number = index + 1\n",
        "  for actor_index, actor in enumerate(take):\n",
        "    actor_number = actor_index + 1\n",
        "    if actor_number in actors:\n",
        "      if actor == 1 and take_number not in actors[actor_number]['takes']:\n",
        "        actors[actor_number]['takes'].append(take_number)\n",
        "        if len(actors[actor_number]['takes']) > len(actors[longest_actor]['takes']):\n",
        "          longest_actor = actor_number\n",
        "    else:\n",
        "      actors[actor_number] = {\"takes\": [take_number]}\n",
        "      if longest_actor == None:\n",
        "        longest_actor = actor_number\n",
        "\n",
        "takes_actors = []\n",
        "\n",
        "for actor in actors.keys():\n",
        "  sorted_takes = sorted(actors[actor]['takes'], key= lambda x: get_by_largest_actors(x), reverse=True)\n",
        "  for take in sorted_takes:\n",
        "    if take not in filmed_takes:\n",
        "      filmed_takes.append(take)\n",
        "      if days_iterator in days:\n",
        "        days[days_iterator].append(take)\n",
        "        daily_takes_iterator += 1\n",
        "        if daily_takes_iterator >= 6:\n",
        "          daily_takes_iterator = 0\n",
        "          days_iterator += 1\n",
        "      else:\n",
        "        days[days_iterator] = [take]\n",
        "        daily_takes_iterator += 1\n",
        "        if daily_takes_iterator >= 6:\n",
        "          daily_takes_iterator = 0\n",
        "          days_iterator += 1\n",
        "actors_by_day = {}\n",
        "\n",
        "for day in days.keys():\n",
        "  actores=[]\n",
        "  for take in days[day]:\n",
        "    take_index = take-1\n",
        "    for idx, actor in enumerate(data[take_index]):\n",
        "      if actor == 1:\n",
        "        actores.append(idx+1)\n",
        "    actors_by_day[day] = {\"actores\": list(set(actores)), \"escenas\": days[day]}\n",
        "pprint.pprint(actors_by_day)"
      ],
      "execution_count": null,
      "outputs": [
        {
          "output_type": "stream",
          "name": "stdout",
          "text": [
            "{1: {'actores': [1,\n",
            "                 2,\n",
            "                 3,\n",
            "                 4,\n",
            "                 5,\n",
            "                 6,\n",
            "                 7,\n",
            "                 8,\n",
            "                 9,\n",
            "                 10,\n",
            "                 11,\n",
            "                 12,\n",
            "                 13,\n",
            "                 14,\n",
            "                 15,\n",
            "                 16,\n",
            "                 17,\n",
            "                 18,\n",
            "                 19,\n",
            "                 20,\n",
            "                 21,\n",
            "                 22,\n",
            "                 23,\n",
            "                 24,\n",
            "                 25,\n",
            "                 26],\n",
            "     'escenas': [23, 5, 8, 11, 1, 18]},\n",
            " 2: {'actores': [1,\n",
            "                 2,\n",
            "                 3,\n",
            "                 4,\n",
            "                 5,\n",
            "                 6,\n",
            "                 7,\n",
            "                 8,\n",
            "                 9,\n",
            "                 10,\n",
            "                 11,\n",
            "                 12,\n",
            "                 13,\n",
            "                 14,\n",
            "                 15,\n",
            "                 16,\n",
            "                 17,\n",
            "                 18,\n",
            "                 19,\n",
            "                 20,\n",
            "                 21,\n",
            "                 22,\n",
            "                 23,\n",
            "                 24,\n",
            "                 25,\n",
            "                 26],\n",
            "     'escenas': [9, 14, 7, 21, 24, 12]},\n",
            " 3: {'actores': [2,\n",
            "                 3,\n",
            "                 4,\n",
            "                 5,\n",
            "                 6,\n",
            "                 7,\n",
            "                 8,\n",
            "                 9,\n",
            "                 10,\n",
            "                 11,\n",
            "                 12,\n",
            "                 13,\n",
            "                 14,\n",
            "                 15,\n",
            "                 16,\n",
            "                 17,\n",
            "                 18,\n",
            "                 19,\n",
            "                 20,\n",
            "                 21,\n",
            "                 22,\n",
            "                 23,\n",
            "                 24,\n",
            "                 25,\n",
            "                 26],\n",
            "     'escenas': [4, 16, 20, 13, 3, 6]},\n",
            " 4: {'actores': [2,\n",
            "                 3,\n",
            "                 4,\n",
            "                 5,\n",
            "                 6,\n",
            "                 7,\n",
            "                 8,\n",
            "                 10,\n",
            "                 11,\n",
            "                 12,\n",
            "                 13,\n",
            "                 14,\n",
            "                 15,\n",
            "                 16,\n",
            "                 17,\n",
            "                 18,\n",
            "                 19,\n",
            "                 20,\n",
            "                 21,\n",
            "                 22,\n",
            "                 23,\n",
            "                 24,\n",
            "                 25,\n",
            "                 26],\n",
            "     'escenas': [10, 17, 22, 15, 2, 19]},\n",
            " 5: {'actores': [4, 5, 6, 8, 9, 15, 16, 20, 23], 'escenas': [25]}}\n"
          ]
        }
      ]
    },
    {
      "cell_type": "markdown",
      "metadata": {
        "id": "kAkDPUyRtYyH"
      },
      "source": [
        "Describe brevemente las lineas de como crees que es posible avanzar en el estudio del problema. Ten en cuenta incluso posibles variaciones del problema y/o variaciones al alza del tamaño"
      ]
    },
    {
      "cell_type": "markdown",
      "metadata": {
        "id": "IE0uZmo-tZu-"
      },
      "source": [
        "Respuesta\n",
        "\n",
        "se puede avanzar en el problema ahondando mas en el uso de herramientas como generadores o incluso usando estructuras mucho ams complicadas como arboles o grafos que permitan asociar relaciones entre los valores en este caos los actores, por otro lado es importante ver que estos problemas de gran complejidad pueden ser siempre reducidos cuando hay ciclos que pueden ser evitados iterando sobre indices o simplemente haciendo estructuras que tengan datos mucho mas organizados que permitan el acceso a datos cada vez mucho mas crudos y sin necesidad de tener demasiadas iteraciones sobre si mismos, lo cual sucedió en este primer approach del ejercicio.\n",
        "\n"
      ]
    }
  ]
}